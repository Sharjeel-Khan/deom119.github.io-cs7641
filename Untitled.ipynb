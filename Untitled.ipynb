{
 "cells": [
  {
   "cell_type": "code",
   "execution_count": 25,
   "metadata": {},
   "outputs": [],
   "source": [
    "import itertools\n",
    "import pandas as pd\n",
    "import numpy as np\n",
    "import matplotlib.pyplot as plt\n",
    "from sklearn.cluster import DBSCAN\n",
    "from sklearn.decomposition import PCA\n",
    "from sklearn.neighbors import NearestNeighbors\n",
    "%matplotlib inline"
   ]
  },
  {
   "cell_type": "code",
   "execution_count": 54,
   "metadata": {},
   "outputs": [
    {
     "name": "stdout",
     "output_type": "stream",
     "text": [
      "(153623, 18)\n"
     ]
    },
    {
     "data": {
      "text/html": [
       "<div>\n",
       "<style scoped>\n",
       "    .dataframe tbody tr th:only-of-type {\n",
       "        vertical-align: middle;\n",
       "    }\n",
       "\n",
       "    .dataframe tbody tr th {\n",
       "        vertical-align: top;\n",
       "    }\n",
       "\n",
       "    .dataframe thead th {\n",
       "        text-align: right;\n",
       "    }\n",
       "</style>\n",
       "<table border=\"1\" class=\"dataframe\">\n",
       "  <thead>\n",
       "    <tr style=\"text-align: right;\">\n",
       "      <th></th>\n",
       "      <th>genre</th>\n",
       "      <th>artist_name</th>\n",
       "      <th>track_name</th>\n",
       "      <th>track_id</th>\n",
       "      <th>popularity</th>\n",
       "      <th>acousticness</th>\n",
       "      <th>danceability</th>\n",
       "      <th>duration_ms</th>\n",
       "      <th>energy</th>\n",
       "      <th>instrumentalness</th>\n",
       "      <th>key</th>\n",
       "      <th>liveness</th>\n",
       "      <th>loudness</th>\n",
       "      <th>mode</th>\n",
       "      <th>speechiness</th>\n",
       "      <th>tempo</th>\n",
       "      <th>time_signature</th>\n",
       "      <th>valence</th>\n",
       "    </tr>\n",
       "  </thead>\n",
       "  <tbody>\n",
       "    <tr>\n",
       "      <th>0</th>\n",
       "      <td>Opera</td>\n",
       "      <td>Giuseppe Verdi</td>\n",
       "      <td>Stiffelio, Act III: Ei fugge! … Lina, pensai c...</td>\n",
       "      <td>7EsKYeHtTc4H4xWiTqSVZA</td>\n",
       "      <td>21</td>\n",
       "      <td>0.986</td>\n",
       "      <td>0.313</td>\n",
       "      <td>490867</td>\n",
       "      <td>0.23100</td>\n",
       "      <td>0.000431</td>\n",
       "      <td>C#</td>\n",
       "      <td>0.0964</td>\n",
       "      <td>-14.287</td>\n",
       "      <td>Major</td>\n",
       "      <td>0.0547</td>\n",
       "      <td>86.001</td>\n",
       "      <td>4/4</td>\n",
       "      <td>0.0886</td>\n",
       "    </tr>\n",
       "    <tr>\n",
       "      <th>1</th>\n",
       "      <td>Opera</td>\n",
       "      <td>Giacomo Puccini</td>\n",
       "      <td>Madama Butterfly / Act 1: ... E soffitto e pareti</td>\n",
       "      <td>7MfmRBvqaW0I6UTxXnad8p</td>\n",
       "      <td>18</td>\n",
       "      <td>0.972</td>\n",
       "      <td>0.360</td>\n",
       "      <td>176797</td>\n",
       "      <td>0.20100</td>\n",
       "      <td>0.028000</td>\n",
       "      <td>D#</td>\n",
       "      <td>0.1330</td>\n",
       "      <td>-19.794</td>\n",
       "      <td>Major</td>\n",
       "      <td>0.0581</td>\n",
       "      <td>131.798</td>\n",
       "      <td>4/4</td>\n",
       "      <td>0.3690</td>\n",
       "    </tr>\n",
       "    <tr>\n",
       "      <th>2</th>\n",
       "      <td>Opera</td>\n",
       "      <td>Giacomo Puccini</td>\n",
       "      <td>Turandot / Act 2: Gloria, gloria, o vincitore</td>\n",
       "      <td>7pBo1GDhIysyUMFXiDVoON</td>\n",
       "      <td>10</td>\n",
       "      <td>0.935</td>\n",
       "      <td>0.168</td>\n",
       "      <td>266184</td>\n",
       "      <td>0.47000</td>\n",
       "      <td>0.020400</td>\n",
       "      <td>C</td>\n",
       "      <td>0.3630</td>\n",
       "      <td>-8.415</td>\n",
       "      <td>Major</td>\n",
       "      <td>0.0383</td>\n",
       "      <td>75.126</td>\n",
       "      <td>3/4</td>\n",
       "      <td>0.0696</td>\n",
       "    </tr>\n",
       "    <tr>\n",
       "      <th>3</th>\n",
       "      <td>Opera</td>\n",
       "      <td>Giuseppe Verdi</td>\n",
       "      <td>Rigoletto, Act IV: Venti scudi hai tu detto?</td>\n",
       "      <td>02mvYZX5aKNzdqEo6jF20m</td>\n",
       "      <td>17</td>\n",
       "      <td>0.961</td>\n",
       "      <td>0.250</td>\n",
       "      <td>288573</td>\n",
       "      <td>0.00605</td>\n",
       "      <td>0.000000</td>\n",
       "      <td>D</td>\n",
       "      <td>0.1200</td>\n",
       "      <td>-33.440</td>\n",
       "      <td>Major</td>\n",
       "      <td>0.0480</td>\n",
       "      <td>76.493</td>\n",
       "      <td>4/4</td>\n",
       "      <td>0.0380</td>\n",
       "    </tr>\n",
       "    <tr>\n",
       "      <th>4</th>\n",
       "      <td>Opera</td>\n",
       "      <td>Giuseppe Verdi</td>\n",
       "      <td>Don Carlo / Act 4: \"Ella giammai m'amò!\"</td>\n",
       "      <td>03TW0jwGMGhUabAjOpB1T9</td>\n",
       "      <td>19</td>\n",
       "      <td>0.985</td>\n",
       "      <td>0.142</td>\n",
       "      <td>629760</td>\n",
       "      <td>0.05800</td>\n",
       "      <td>0.146000</td>\n",
       "      <td>D</td>\n",
       "      <td>0.0969</td>\n",
       "      <td>-23.625</td>\n",
       "      <td>Major</td>\n",
       "      <td>0.0493</td>\n",
       "      <td>172.935</td>\n",
       "      <td>4/4</td>\n",
       "      <td>0.0382</td>\n",
       "    </tr>\n",
       "  </tbody>\n",
       "</table>\n",
       "</div>"
      ],
      "text/plain": [
       "   genre      artist_name                                         track_name  \\\n",
       "0  Opera   Giuseppe Verdi  Stiffelio, Act III: Ei fugge! … Lina, pensai c...   \n",
       "1  Opera  Giacomo Puccini  Madama Butterfly / Act 1: ... E soffitto e pareti   \n",
       "2  Opera  Giacomo Puccini      Turandot / Act 2: Gloria, gloria, o vincitore   \n",
       "3  Opera   Giuseppe Verdi       Rigoletto, Act IV: Venti scudi hai tu detto?   \n",
       "4  Opera   Giuseppe Verdi           Don Carlo / Act 4: \"Ella giammai m'amò!\"   \n",
       "\n",
       "                 track_id  popularity  acousticness  danceability  \\\n",
       "0  7EsKYeHtTc4H4xWiTqSVZA          21         0.986         0.313   \n",
       "1  7MfmRBvqaW0I6UTxXnad8p          18         0.972         0.360   \n",
       "2  7pBo1GDhIysyUMFXiDVoON          10         0.935         0.168   \n",
       "3  02mvYZX5aKNzdqEo6jF20m          17         0.961         0.250   \n",
       "4  03TW0jwGMGhUabAjOpB1T9          19         0.985         0.142   \n",
       "\n",
       "   duration_ms   energy  instrumentalness key  liveness  loudness   mode  \\\n",
       "0       490867  0.23100          0.000431  C#    0.0964   -14.287  Major   \n",
       "1       176797  0.20100          0.028000  D#    0.1330   -19.794  Major   \n",
       "2       266184  0.47000          0.020400   C    0.3630    -8.415  Major   \n",
       "3       288573  0.00605          0.000000   D    0.1200   -33.440  Major   \n",
       "4       629760  0.05800          0.146000   D    0.0969   -23.625  Major   \n",
       "\n",
       "   speechiness    tempo time_signature  valence  \n",
       "0       0.0547   86.001            4/4   0.0886  \n",
       "1       0.0581  131.798            4/4   0.3690  \n",
       "2       0.0383   75.126            3/4   0.0696  \n",
       "3       0.0480   76.493            4/4   0.0380  \n",
       "4       0.0493  172.935            4/4   0.0382  "
      ]
     },
     "execution_count": 54,
     "metadata": {},
     "output_type": "execute_result"
    }
   ],
   "source": [
    "datapath = 'data/SpotifyFeatures.csv'\n",
    "df = pd.read_csv(datapath).drop_duplicates(subset=['artist_name', 'track_name'], keep='last')\n",
    "print(df.shape)\n",
    "df.head()"
   ]
  },
  {
   "cell_type": "code",
   "execution_count": 55,
   "metadata": {
    "scrolled": true
   },
   "outputs": [
    {
     "data": {
      "text/html": [
       "<div>\n",
       "<style scoped>\n",
       "    .dataframe tbody tr th:only-of-type {\n",
       "        vertical-align: middle;\n",
       "    }\n",
       "\n",
       "    .dataframe tbody tr th {\n",
       "        vertical-align: top;\n",
       "    }\n",
       "\n",
       "    .dataframe thead th {\n",
       "        text-align: right;\n",
       "    }\n",
       "</style>\n",
       "<table border=\"1\" class=\"dataframe\">\n",
       "  <thead>\n",
       "    <tr style=\"text-align: right;\">\n",
       "      <th></th>\n",
       "      <th>acousticness</th>\n",
       "      <th>danceability</th>\n",
       "      <th>energy</th>\n",
       "      <th>instrumentalness</th>\n",
       "      <th>liveness</th>\n",
       "      <th>loudness</th>\n",
       "      <th>speechiness</th>\n",
       "      <th>tempo</th>\n",
       "      <th>valence</th>\n",
       "    </tr>\n",
       "  </thead>\n",
       "  <tbody>\n",
       "    <tr>\n",
       "      <th>0</th>\n",
       "      <td>1.559566</td>\n",
       "      <td>-1.174935</td>\n",
       "      <td>-1.160238</td>\n",
       "      <td>-0.531292</td>\n",
       "      <td>-0.609209</td>\n",
       "      <td>-0.603976</td>\n",
       "      <td>-0.372195</td>\n",
       "      <td>-0.968887</td>\n",
       "      <td>-1.306260</td>\n",
       "    </tr>\n",
       "    <tr>\n",
       "      <th>1</th>\n",
       "      <td>1.521524</td>\n",
       "      <td>-0.931515</td>\n",
       "      <td>-1.269025</td>\n",
       "      <td>-0.446210</td>\n",
       "      <td>-0.439364</td>\n",
       "      <td>-1.443736</td>\n",
       "      <td>-0.356369</td>\n",
       "      <td>0.499807</td>\n",
       "      <td>-0.257052</td>\n",
       "    </tr>\n",
       "    <tr>\n",
       "      <th>2</th>\n",
       "      <td>1.420985</td>\n",
       "      <td>-1.925910</td>\n",
       "      <td>-0.293565</td>\n",
       "      <td>-0.469665</td>\n",
       "      <td>0.627965</td>\n",
       "      <td>0.291443</td>\n",
       "      <td>-0.448535</td>\n",
       "      <td>-1.317645</td>\n",
       "      <td>-1.377355</td>\n",
       "    </tr>\n",
       "    <tr>\n",
       "      <th>3</th>\n",
       "      <td>1.491634</td>\n",
       "      <td>-1.501221</td>\n",
       "      <td>-1.975961</td>\n",
       "      <td>-0.532622</td>\n",
       "      <td>-0.499692</td>\n",
       "      <td>-3.524608</td>\n",
       "      <td>-0.403383</td>\n",
       "      <td>-1.273806</td>\n",
       "      <td>-1.495597</td>\n",
       "    </tr>\n",
       "    <tr>\n",
       "      <th>4</th>\n",
       "      <td>1.556849</td>\n",
       "      <td>-2.060568</td>\n",
       "      <td>-1.787578</td>\n",
       "      <td>-0.082043</td>\n",
       "      <td>-0.606888</td>\n",
       "      <td>-2.027923</td>\n",
       "      <td>-0.397332</td>\n",
       "      <td>1.819057</td>\n",
       "      <td>-1.494848</td>\n",
       "    </tr>\n",
       "  </tbody>\n",
       "</table>\n",
       "</div>"
      ],
      "text/plain": [
       "   acousticness  danceability    energy  instrumentalness  liveness  loudness  \\\n",
       "0      1.559566     -1.174935 -1.160238         -0.531292 -0.609209 -0.603976   \n",
       "1      1.521524     -0.931515 -1.269025         -0.446210 -0.439364 -1.443736   \n",
       "2      1.420985     -1.925910 -0.293565         -0.469665  0.627965  0.291443   \n",
       "3      1.491634     -1.501221 -1.975961         -0.532622 -0.499692 -3.524608   \n",
       "4      1.556849     -2.060568 -1.787578         -0.082043 -0.606888 -2.027923   \n",
       "\n",
       "   speechiness     tempo   valence  \n",
       "0    -0.372195 -0.968887 -1.306260  \n",
       "1    -0.356369  0.499807 -0.257052  \n",
       "2    -0.448535 -1.317645 -1.377355  \n",
       "3    -0.403383 -1.273806 -1.495597  \n",
       "4    -0.397332  1.819057 -1.494848  "
      ]
     },
     "execution_count": 55,
     "metadata": {},
     "output_type": "execute_result"
    }
   ],
   "source": [
    "mfeats = np.array(['acousticness', 'danceability', 'energy', 'instrumentalness', 'liveness', 'loudness', 'speechiness', 'tempo', 'valence'])\n",
    "df_mfeats = df[mfeats]\n",
    "df_mfeats = (df_mfeats-df_mfeats.mean())/df_mfeats.std()\n",
    "df_mfeats.head()"
   ]
  },
  {
   "cell_type": "markdown",
   "metadata": {},
   "source": [
    "The goal of our unsupervised learning was to generate playlists comprised of tracks with similar musical features. To this end, we separated the dataset into the core numerical musical features taking care to filter out identifying labels and classifications such as the track name, artist, and genre. We also removed effectively duplicate tracks based on artist and track name, which reduced the dataset size from ~280,000 to ~150,000 tracks. The resultant list of musical features consisted of acousticness, danceability, energy, instrumentalness, liveness, loudness, speechiness, tempo, and valence.\n",
    "\n",
    "After standardizing the musical feature data subset, we performed PCA to better understand the underlying data's core composition. It turned out that the explained variance was reasonably well distributed amongst the various musical features with 99% variance explanation requiring 8 of 9 principal components and only ~40% explained by the first component. We capped the number of components at 9 since there were only 9 musical features under consideration. Interestingly, the primary component was best described by loudness and energy, which a random sampling of adults above the age of 45 has subsequently confirmed via their ground truth labels."
   ]
  },
  {
   "cell_type": "code",
   "execution_count": 56,
   "metadata": {},
   "outputs": [],
   "source": [
    "n = df_mfeats.shape[0]\n",
    "mfeats_sub = df_mfeats.values[:n]"
   ]
  },
  {
   "cell_type": "code",
   "execution_count": 57,
   "metadata": {},
   "outputs": [
    {
     "data": {
      "text/plain": [
       "Text(0.5, 1.0, 'Musical Feature PCA Explained Variance Ratio')"
      ]
     },
     "execution_count": 57,
     "metadata": {},
     "output_type": "execute_result"
    },
    {
     "data": {
      "image/png": "[encoded data removed]",
      "text/plain": [
       "<Figure size 432x288 with 1 Axes>"
      ]
     },
     "metadata": {
      "needs_background": "light"
     },
     "output_type": "display_data"
    }
   ],
   "source": [
    "ncomps = 9\n",
    "pca = PCA(n_components=ncomps).fit(mfeats_sub)\n",
    "plt.plot(range(1, ncomps+1), pca.explained_variance_ratio_.cumsum(), marker='o', alpha=0.5)\n",
    "plt.xlabel('principal component')\n",
    "plt.ylabel('explained variance ratio')\n",
    "plt.title('Musical Feature PCA Explained Variance Ratio')"
   ]
  },
  {
   "cell_type": "code",
   "execution_count": 58,
   "metadata": {},
   "outputs": [
    {
     "data": {
      "text/plain": [
       "Text(0.5, 1.0, 'Principal Component Feature Weights')"
      ]
     },
     "execution_count": 58,
     "metadata": {},
     "output_type": "execute_result"
    },
    {
     "data": {
      "image/png": "[encoded data removed]",
      "text/plain": [
       "<Figure size 432x288 with 1 Axes>"
      ]
     },
     "metadata": {
      "needs_background": "light"
     },
     "output_type": "display_data"
    }
   ],
   "source": [
    "component = pca.components_[0]\n",
    "comp_vals = -np.sort(-np.abs(component))\n",
    "comp_feats = mfeats[(-np.abs(component)).argsort()]\n",
    "xvals = range(len(component))\n",
    "plt.bar(xvals, comp_vals, align='center', alpha=0.5)\n",
    "plt.xticks(xvals, comp_feats, rotation=90)\n",
    "plt.ylabel('absolute value weights')\n",
    "plt.title('Principal Component Feature Weights')"
   ]
  },
  {
   "cell_type": "markdown",
   "metadata": {},
   "source": [
    "In order to perform the DBSCAN clustering, we needed to determine relevant values for the $minpts$ and $\\epsilon$ variables. We used the $minpts \\leq D+1$ rule of thumb to set $minpts$ equal to 10 given that our cleaned dataset consisted of 9 features. We then subjected a random sampling of the dataset to the tried and true \"elbow test\" by plotting the sorted 10th nearest neighbor distances. Based on the elbow test, we elected to use an $\\epsilon$ value of 0.75 to ensure both a sufficient number of clusters as well as a relatively evenly disbursed track count per cluster."
   ]
  },
  {
   "cell_type": "code",
   "execution_count": 88,
   "metadata": {},
   "outputs": [
    {
     "data": {
      "text/plain": [
       "Text(0.5, 1.0, 'Dataset Distance to 10th Neighbor')"
      ]
     },
     "execution_count": 88,
     "metadata": {},
     "output_type": "execute_result"
    },
    {
     "data": {
      "image/png": "[encoded data removed]",
      "text/plain": [
       "<Figure size 432x288 with 1 Axes>"
      ]
     },
     "metadata": {
      "needs_background": "light"
     },
     "output_type": "display_data"
    }
   ],
   "source": [
    "nn = NearestNeighbors(n_neighbors=10).fit(mfeats_sub)\n",
    "kneigh_dist, _ = nn.kneighbors()\n",
    "dist_10 = np.sort(kneigh_dist[:, -1])\n",
    "xvals = range(1, mfeats_sub.shape[0]+1)\n",
    "plt.plot(xvals, dist_10, alpha=0.5)\n",
    "plt.xlabel('points sorted by distance to 10th neighbor')\n",
    "plt.ylabel('distance to 10th neighbor')\n",
    "plt.title('Dataset Distance to 10th Neighbor')"
   ]
  },
  {
   "cell_type": "code",
   "execution_count": 60,
   "metadata": {},
   "outputs": [
    {
     "data": {
      "text/plain": [
       "(20,)"
      ]
     },
     "execution_count": 60,
     "metadata": {},
     "output_type": "execute_result"
    }
   ],
   "source": [
    "clustering = DBSCAN(eps=0.75, min_samples=10).fit(mfeats_sub)\n",
    "labels = clustering.labels_\n",
    "unique_labels = np.unique(labels)\n",
    "unique_labels.shape"
   ]
  },
  {
   "cell_type": "markdown",
   "metadata": {},
   "source": [
    "The resultant clustering consisted of 19 playlists, excluding tracks labeled as noise, comprised of ~90% of the total dataset. The average cluster size consisted of ~7,300 tracks, with each cluster representing ~5% of the total dataset."
   ]
  },
  {
   "cell_type": "code",
   "execution_count": 61,
   "metadata": {},
   "outputs": [
    {
     "name": "stdout",
     "output_type": "stream",
     "text": [
      "noise points: 14860 (0.10)\n",
      "avg playlist length: 7303.315789473684 (0.05)\n"
     ]
    }
   ],
   "source": [
    "noise = mfeats_sub[clustering.labels_ == -1]\n",
    "print(f'noise points: {noise.shape[0]} ({noise.shape[0]/mfeats_sub.shape[0]:0.2f})')\n",
    "playlist_lengths = []\n",
    "for i in unique_labels:\n",
    "    if i != -1:\n",
    "        playlist_lengths.append(mfeats_sub[clustering.labels_ == i].shape[0])\n",
    "playlist_lengths = np.array(playlist_lengths)\n",
    "print(f'avg playlist length: {playlist_lengths.mean()} ({playlist_lengths.mean()/mfeats_sub.shape[0]:0.2f})')"
   ]
  },
  {
   "cell_type": "markdown",
   "metadata": {},
   "source": [
    "Without further adieu, below please find a sample of tracks from some of our DBSCAN generated playlists. Interestingly, despite leaving out the genre and artist name from the cleaned dataset, the DBSCAN clustering grouped together tracks from similar genres and artists based solely on their musical features."
   ]
  },
  {
   "cell_type": "code",
   "execution_count": 87,
   "metadata": {},
   "outputs": [
    {
     "data": {
      "text/html": [
       "<div>\n",
       "<style scoped>\n",
       "    .dataframe tbody tr th:only-of-type {\n",
       "        vertical-align: middle;\n",
       "    }\n",
       "\n",
       "    .dataframe tbody tr th {\n",
       "        vertical-align: top;\n",
       "    }\n",
       "\n",
       "    .dataframe thead th {\n",
       "        text-align: right;\n",
       "    }\n",
       "</style>\n",
       "<table border=\"1\" class=\"dataframe\">\n",
       "  <thead>\n",
       "    <tr style=\"text-align: right;\">\n",
       "      <th></th>\n",
       "      <th>track_name</th>\n",
       "      <th>artist_name</th>\n",
       "      <th>genre</th>\n",
       "    </tr>\n",
       "    <tr>\n",
       "      <th>playlist</th>\n",
       "      <th></th>\n",
       "      <th></th>\n",
       "      <th></th>\n",
       "    </tr>\n",
       "  </thead>\n",
       "  <tbody>\n",
       "    <tr>\n",
       "      <th>1</th>\n",
       "      <td>Stiffelio, Act III: Ei fugge! … Lina, pensai c...</td>\n",
       "      <td>Giuseppe Verdi</td>\n",
       "      <td>Opera</td>\n",
       "    </tr>\n",
       "    <tr>\n",
       "      <th>1</th>\n",
       "      <td>Madama Butterfly / Act 1: ... E soffitto e pareti</td>\n",
       "      <td>Giacomo Puccini</td>\n",
       "      <td>Opera</td>\n",
       "    </tr>\n",
       "    <tr>\n",
       "      <th>1</th>\n",
       "      <td>Turandot / Act 2: Gloria, gloria, o vincitore</td>\n",
       "      <td>Giacomo Puccini</td>\n",
       "      <td>Opera</td>\n",
       "    </tr>\n",
       "    <tr>\n",
       "      <th>1</th>\n",
       "      <td>Rigoletto, Act IV: Venti scudi hai tu detto?</td>\n",
       "      <td>Giuseppe Verdi</td>\n",
       "      <td>Opera</td>\n",
       "    </tr>\n",
       "    <tr>\n",
       "      <th>1</th>\n",
       "      <td>Don Carlo / Act 4: \"Ella giammai m'amò!\"</td>\n",
       "      <td>Giuseppe Verdi</td>\n",
       "      <td>Opera</td>\n",
       "    </tr>\n",
       "    <tr>\n",
       "      <th>2</th>\n",
       "      <td>Audubon</td>\n",
       "      <td>$uicideBoy$</td>\n",
       "      <td>Hip-Hop</td>\n",
       "    </tr>\n",
       "    <tr>\n",
       "      <th>2</th>\n",
       "      <td>Cuidao - Reggaeton Version</td>\n",
       "      <td>Super Yei</td>\n",
       "      <td>Reggaeton</td>\n",
       "    </tr>\n",
       "    <tr>\n",
       "      <th>2</th>\n",
       "      <td>Power (Remix) [feat. Daddy Yankee, Kendo Kapon...</td>\n",
       "      <td>Benny Benni</td>\n",
       "      <td>Reggaeton</td>\n",
       "    </tr>\n",
       "    <tr>\n",
       "      <th>2</th>\n",
       "      <td>Sweetest Thing</td>\n",
       "      <td>Gold Member</td>\n",
       "      <td>Reggae</td>\n",
       "    </tr>\n",
       "    <tr>\n",
       "      <th>2</th>\n",
       "      <td>Millonarios</td>\n",
       "      <td>Daddy Yankee</td>\n",
       "      <td>Reggaeton</td>\n",
       "    </tr>\n",
       "    <tr>\n",
       "      <th>3</th>\n",
       "      <td>Two Minute Warning</td>\n",
       "      <td>Norm MacDonald</td>\n",
       "      <td>Comedy</td>\n",
       "    </tr>\n",
       "    <tr>\n",
       "      <th>3</th>\n",
       "      <td>Adult Add</td>\n",
       "      <td>Joe Zimmerman</td>\n",
       "      <td>Comedy</td>\n",
       "    </tr>\n",
       "    <tr>\n",
       "      <th>3</th>\n",
       "      <td>Sol's Naked Photo</td>\n",
       "      <td>The Jerky Boys</td>\n",
       "      <td>Comedy</td>\n",
       "    </tr>\n",
       "    <tr>\n",
       "      <th>3</th>\n",
       "      <td>Ground Rules</td>\n",
       "      <td>Moshe Kasher</td>\n",
       "      <td>Comedy</td>\n",
       "    </tr>\n",
       "    <tr>\n",
       "      <th>3</th>\n",
       "      <td>Travel, Pt. 2</td>\n",
       "      <td>Baron Vaughn</td>\n",
       "      <td>Comedy</td>\n",
       "    </tr>\n",
       "  </tbody>\n",
       "</table>\n",
       "</div>"
      ],
      "text/plain": [
       "                                                 track_name      artist_name  \\\n",
       "playlist                                                                       \n",
       "1         Stiffelio, Act III: Ei fugge! … Lina, pensai c...   Giuseppe Verdi   \n",
       "1         Madama Butterfly / Act 1: ... E soffitto e pareti  Giacomo Puccini   \n",
       "1             Turandot / Act 2: Gloria, gloria, o vincitore  Giacomo Puccini   \n",
       "1              Rigoletto, Act IV: Venti scudi hai tu detto?   Giuseppe Verdi   \n",
       "1                  Don Carlo / Act 4: \"Ella giammai m'amò!\"   Giuseppe Verdi   \n",
       "2                                                   Audubon      $uicideBoy$   \n",
       "2                                Cuidao - Reggaeton Version        Super Yei   \n",
       "2         Power (Remix) [feat. Daddy Yankee, Kendo Kapon...      Benny Benni   \n",
       "2                                            Sweetest Thing      Gold Member   \n",
       "2                                               Millonarios     Daddy Yankee   \n",
       "3                                        Two Minute Warning   Norm MacDonald   \n",
       "3                                                 Adult Add    Joe Zimmerman   \n",
       "3                                         Sol's Naked Photo   The Jerky Boys   \n",
       "3                                              Ground Rules     Moshe Kasher   \n",
       "3                                             Travel, Pt. 2     Baron Vaughn   \n",
       "\n",
       "              genre  \n",
       "playlist             \n",
       "1             Opera  \n",
       "1             Opera  \n",
       "1             Opera  \n",
       "1             Opera  \n",
       "1             Opera  \n",
       "2           Hip-Hop  \n",
       "2         Reggaeton  \n",
       "2         Reggaeton  \n",
       "2            Reggae  \n",
       "2         Reggaeton  \n",
       "3            Comedy  \n",
       "3            Comedy  \n",
       "3            Comedy  \n",
       "3            Comedy  \n",
       "3            Comedy  "
      ]
     },
     "execution_count": 87,
     "metadata": {},
     "output_type": "execute_result"
    }
   ],
   "source": [
    "song_count = 5\n",
    "opera = df.values[clustering.labels_ == 0][:song_count]\n",
    "df_opera = pd.DataFrame(opera, columns=df.columns)\n",
    "df_opera['playlist'] = 1\n",
    "\n",
    "electronic = df.values[clustering.labels_ == 10][:song_count]\n",
    "df_electronic = pd.DataFrame(electronic, columns=df.columns)\n",
    "df_electronic['playlist'] = 2\n",
    "\n",
    "comedy = df.values[clustering.labels_ == 8][:song_count]\n",
    "df_comedy = pd.DataFrame(comedy, columns=df.columns)\n",
    "df_comedy['playlist'] = 3\n",
    "\n",
    "df_playlist = pd.concat((df_opera, df_electronic))\n",
    "df_playlist = pd.concat((df_playlist, df_comedy))\n",
    "df_playlist = df_playlist.set_index('playlist')\n",
    "df_playlist[['track_name', 'artist_name', 'genre']].head(15)"
   ]
  },
  {
   "cell_type": "code",
   "execution_count": 83,
   "metadata": {},
   "outputs": [
    {
     "name": "stdout",
     "output_type": "stream",
     "text": [
      "component: 0 --> ['loudness' 'energy' 'acousticness' 'valence' 'danceability'\n",
      " 'instrumentalness' 'tempo' 'liveness' 'speechiness']\n",
      "component: 1 --> ['speechiness' 'liveness' 'acousticness' 'tempo' 'instrumentalness'\n",
      " 'loudness' 'danceability' 'energy' 'valence']\n",
      "component: 2 --> ['tempo' 'danceability' 'valence' 'liveness' 'energy' 'acousticness'\n",
      " 'loudness' 'instrumentalness' 'speechiness']\n"
     ]
    }
   ],
   "source": [
    "for i, component in enumerate(pca.components_):\n",
    "    stuff = (-np.abs(component)).argsort()\n",
    "    print(f'component: {i} --> {mfeats[stuff]}')"
   ]
  },
  {
   "cell_type": "code",
   "execution_count": null,
   "metadata": {},
   "outputs": [],
   "source": []
  }
 ],
 "metadata": {
  "kernelspec": {
   "display_name": "Python 3",
   "language": "python",
   "name": "python3"
  },
  "language_info": {
   "codemirror_mode": {
    "name": "ipython",
    "version": 3
   },
   "file_extension": ".py",
   "mimetype": "text/x-python",
   "name": "python",
   "nbconvert_exporter": "python",
   "pygments_lexer": "ipython3",
   "version": "3.7.5"
  }
 },
 "nbformat": 4,
 "nbformat_minor": 2
}
